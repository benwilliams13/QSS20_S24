{
 "cells": [
  {
   "cell_type": "code",
   "execution_count": 1,
   "metadata": {},
   "outputs": [],
   "source": [
    "## imports\n",
    "import pandas as pd\n",
    "import numpy as np\n",
    "import re\n",
    "import requests\n",
    "import yaml\n",
    "\n",
    "\n",
    "## repeated printouts\n",
    "from IPython.core.interactiveshell import InteractiveShell\n",
    "InteractiveShell.ast_node_interactivity = \"all\""
   ]
  },
  {
   "cell_type": "markdown",
   "metadata": {},
   "source": [
    "# 1. Example 1: no credentials; no wrapper\n",
    "\n",
    "Site: National Assessment of Education Progress (NAEP)\n",
    "\n",
    "Documentation: https://www.nationsreportcard.gov/api_documentation.aspx\n",
    "\n",
    "Base link: https://www.nationsreportcard.gov/DataService/GetAdhocData.aspx "
   ]
  },
  {
   "cell_type": "markdown",
   "metadata": {},
   "source": [
    "## 1.1 Query to pull some data"
   ]
  },
  {
   "cell_type": "code",
   "execution_count": 3,
   "metadata": {},
   "outputs": [
    {
     "data": {
      "text/plain": [
       "'https://www.nationsreportcard.gov/Dataservice/GetAdhocData.aspx?type=data&subject=writing&grade=8&subscale=WRIRP&variable=GENDER&jurisdiction=NP&stattype=MN:MN&Year=2011'"
      ]
     },
     "execution_count": 3,
     "metadata": {},
     "output_type": "execute_result"
    }
   ],
   "source": [
    "## using their example query of 2011 writing scores separated by gender\n",
    "## based on here - https://stackoverflow.com/questions/40836749/pythonic-way-of-writing-a-single-line-long-string\n",
    "## using the ( ) syntax to formulate a long\n",
    "## string without linebreaks added\n",
    "example_naep_query = (\n",
    "'https://www.nationsreportcard.gov/'\n",
    "'Dataservice/GetAdhocData.aspx?'\n",
    "'type=data&subject=writing&grade=8&'\n",
    "'subscale=WRIRP&variable=GENDER&jurisdiction=NP&stattype=MN:MN&Year=2011')\n",
    "\n",
    "\n",
    "example_naep_query\n"
   ]
  },
  {
   "cell_type": "code",
   "execution_count": 4,
   "metadata": {},
   "outputs": [
    {
     "data": {
      "text/plain": [
       "<Response [200]>"
      ]
     },
     "execution_count": 4,
     "metadata": {},
     "output_type": "execute_result"
    },
    {
     "name": "stdout",
     "output_type": "stream",
     "text": [
      "<class 'requests.models.Response'>\n"
     ]
    },
    {
     "data": {
      "text/plain": [
       "{'status': 200,\n",
       " 'result': [{'year': 2011,\n",
       "   'sample': 'R3',\n",
       "   'yearSampleLabel': '2011',\n",
       "   'Cohort': 2,\n",
       "   'CohortLabel': 'Grade 8',\n",
       "   'stattype': 'MN:MN',\n",
       "   'subject': 'WRI',\n",
       "   'grade': 8,\n",
       "   'scale': 'WRIRP',\n",
       "   'jurisdiction': 'NP',\n",
       "   'jurisLabel': 'National public',\n",
       "   'variable': 'GENDER',\n",
       "   'variableLabel': 'Gender',\n",
       "   'varValue': '1',\n",
       "   'varValueLabel': 'Male',\n",
       "   'value': 139.099504632971,\n",
       "   'isStatDisplayable': 1,\n",
       "   'errorFlag': 0},\n",
       "  {'year': 2011,\n",
       "   'sample': 'R3',\n",
       "   'yearSampleLabel': '2011',\n",
       "   'Cohort': 2,\n",
       "   'CohortLabel': 'Grade 8',\n",
       "   'stattype': 'MN:MN',\n",
       "   'subject': 'WRI',\n",
       "   'grade': 8,\n",
       "   'scale': 'WRIRP',\n",
       "   'jurisdiction': 'NP',\n",
       "   'jurisLabel': 'National public',\n",
       "   'variable': 'GENDER',\n",
       "   'variableLabel': 'Gender',\n",
       "   'varValue': '2',\n",
       "   'varValueLabel': 'Female',\n",
       "   'value': 158.567104984955,\n",
       "   'isStatDisplayable': 1,\n",
       "   'errorFlag': 0}]}"
      ]
     },
     "execution_count": 4,
     "metadata": {},
     "output_type": "execute_result"
    },
    {
     "data": {
      "text/html": [
       "<div>\n",
       "<style scoped>\n",
       "    .dataframe tbody tr th:only-of-type {\n",
       "        vertical-align: middle;\n",
       "    }\n",
       "\n",
       "    .dataframe tbody tr th {\n",
       "        vertical-align: top;\n",
       "    }\n",
       "\n",
       "    .dataframe thead th {\n",
       "        text-align: right;\n",
       "    }\n",
       "</style>\n",
       "<table border=\"1\" class=\"dataframe\">\n",
       "  <thead>\n",
       "    <tr style=\"text-align: right;\">\n",
       "      <th></th>\n",
       "      <th>year</th>\n",
       "      <th>sample</th>\n",
       "      <th>yearSampleLabel</th>\n",
       "      <th>Cohort</th>\n",
       "      <th>CohortLabel</th>\n",
       "      <th>stattype</th>\n",
       "      <th>subject</th>\n",
       "      <th>grade</th>\n",
       "      <th>scale</th>\n",
       "      <th>jurisdiction</th>\n",
       "      <th>jurisLabel</th>\n",
       "      <th>variable</th>\n",
       "      <th>variableLabel</th>\n",
       "      <th>varValue</th>\n",
       "      <th>varValueLabel</th>\n",
       "      <th>value</th>\n",
       "      <th>isStatDisplayable</th>\n",
       "      <th>errorFlag</th>\n",
       "    </tr>\n",
       "  </thead>\n",
       "  <tbody>\n",
       "    <tr>\n",
       "      <th>0</th>\n",
       "      <td>2011</td>\n",
       "      <td>R3</td>\n",
       "      <td>2011</td>\n",
       "      <td>2</td>\n",
       "      <td>Grade 8</td>\n",
       "      <td>MN:MN</td>\n",
       "      <td>WRI</td>\n",
       "      <td>8</td>\n",
       "      <td>WRIRP</td>\n",
       "      <td>NP</td>\n",
       "      <td>National public</td>\n",
       "      <td>GENDER</td>\n",
       "      <td>Gender</td>\n",
       "      <td>1</td>\n",
       "      <td>Male</td>\n",
       "      <td>139.099505</td>\n",
       "      <td>1</td>\n",
       "      <td>0</td>\n",
       "    </tr>\n",
       "    <tr>\n",
       "      <th>1</th>\n",
       "      <td>2011</td>\n",
       "      <td>R3</td>\n",
       "      <td>2011</td>\n",
       "      <td>2</td>\n",
       "      <td>Grade 8</td>\n",
       "      <td>MN:MN</td>\n",
       "      <td>WRI</td>\n",
       "      <td>8</td>\n",
       "      <td>WRIRP</td>\n",
       "      <td>NP</td>\n",
       "      <td>National public</td>\n",
       "      <td>GENDER</td>\n",
       "      <td>Gender</td>\n",
       "      <td>2</td>\n",
       "      <td>Female</td>\n",
       "      <td>158.567105</td>\n",
       "      <td>1</td>\n",
       "      <td>0</td>\n",
       "    </tr>\n",
       "  </tbody>\n",
       "</table>\n",
       "</div>"
      ],
      "text/plain": [
       "   year sample yearSampleLabel  Cohort CohortLabel stattype subject  grade  \\\n",
       "0  2011     R3            2011       2     Grade 8    MN:MN     WRI      8   \n",
       "1  2011     R3            2011       2     Grade 8    MN:MN     WRI      8   \n",
       "\n",
       "   scale jurisdiction       jurisLabel variable variableLabel varValue  \\\n",
       "0  WRIRP           NP  National public   GENDER        Gender        1   \n",
       "1  WRIRP           NP  National public   GENDER        Gender        2   \n",
       "\n",
       "  varValueLabel       value  isStatDisplayable  errorFlag  \n",
       "0          Male  139.099505                  1          0  \n",
       "1        Female  158.567105                  1          0  "
      ]
     },
     "execution_count": 4,
     "metadata": {},
     "output_type": "execute_result"
    }
   ],
   "source": [
    "## use requests to call the api\n",
    "naep_resp = requests.get(example_naep_query)\n",
    "naep_resp\n",
    "print(type(naep_resp))\n",
    "\n",
    "## get the json contents of the response \n",
    "## here, we're assuming valid response\n",
    "naep_resp_j = naep_resp.json()\n",
    "naep_resp_j\n",
    "\n",
    "## with result, turn it into a dataframe\n",
    "naep_resp_d = pd.DataFrame(naep_resp_j['result'])\n",
    "naep_resp_d"
   ]
  },
  {
   "cell_type": "markdown",
   "metadata": {},
   "source": [
    "## 1.2 What happens if there's an error in our query?"
   ]
  },
  {
   "cell_type": "code",
   "execution_count": 8,
   "metadata": {},
   "outputs": [
    {
     "data": {
      "text/plain": [
       "'https://www.nationsreportcard.gov/Dataservice/GetAdhocData.aspx?type=data&subject=writing&grade=8&subscale=WRIRP&variable=GENDER&jurisdiction=NP&stattype=MN:MN&Year=2025'"
      ]
     },
     "execution_count": 8,
     "metadata": {},
     "output_type": "execute_result"
    }
   ],
   "source": [
    "## here's a query that from the documentation we know\n",
    "## won't work since i modified year to 2025 which doesnt\n",
    "## exist in the data\n",
    "wrong_naep_query = (\n",
    "'https://www.nationsreportcard.gov/'\n",
    "'Dataservice/GetAdhocData.aspx?'\n",
    "'type=data&subject=writing&grade=8&'\n",
    "'subscale=WRIRP&variable=GENDER&jurisdiction=NP&stattype=MN:MN&Year=2025')\n",
    "\n",
    "wrong_naep_query"
   ]
  },
  {
   "cell_type": "code",
   "execution_count": 9,
   "metadata": {},
   "outputs": [
    {
     "data": {
      "text/plain": [
       "<Response [200]>"
      ]
     },
     "execution_count": 9,
     "metadata": {},
     "output_type": "execute_result"
    }
   ],
   "source": [
    "## use requests to call the api\n",
    "naep_wrong_resp = requests.get(wrong_naep_query)\n",
    "naep_wrong_resp"
   ]
  },
  {
   "cell_type": "code",
   "execution_count": null,
   "metadata": {},
   "outputs": [],
   "source": [
    "## in the case of this particular api,\n",
    "## the call returns some response but\n",
    "## when we try to extract the json containing\n",
    "## status or results, we get in an error\n",
    "#naep_wrong_resp.json() # uncomment to see error"
   ]
  },
  {
   "cell_type": "markdown",
   "metadata": {},
   "source": [
    "### 1.2.2 More all-purpose way of allowing remainder of calls to run: try, except"
   ]
  },
  {
   "cell_type": "code",
   "execution_count": 10,
   "metadata": {},
   "outputs": [
    {
     "name": "stdout",
     "output_type": "stream",
     "text": [
      "Failed to get result from API due to error:\n",
      "Invalid control character '\\r' at: line 1 column 289 (char 288)\n"
     ]
    }
   ],
   "source": [
    "## putting it in a try; except as general error catching\n",
    "try:\n",
    "    results = naep_wrong_resp.json()['result']\n",
    "except Exception as e:\n",
    "    print('Failed to get result from API due to error:')\n",
    "    print(e) # or just: pass"
   ]
  },
  {
   "cell_type": "markdown",
   "metadata": {},
   "source": [
    "### 1.2.3 Can usually also find more targeted way but that varies more across APIs"
   ]
  },
  {
   "cell_type": "code",
   "execution_count": 11,
   "metadata": {},
   "outputs": [
    {
     "data": {
      "text/plain": [
       "'{\"status\":400,\"result\": \"System.Exception: The query \\'SELECT DISTINCT Framework FROM Cycles WHERE Subject=\\'WRI\\' AND Cohort=2 AND CONVERT(VARCHAR(10),Year)+Sample IN (\\'2025R3\\')\\' did not return exactly 1 framework. Make sure you can trend the years defined for the given subject and cohort.\\r\\n   at NRCDataService3.GetAdhocData.GetFramework(NDEContext& ndeContext, String subjectCode, List`1 yearSamples, String cohort) in C:\\\\projects\\\\ndecore2015\\\\NRCDataService2\\\\GetAdhocData.aspx.cs:line 2091\\r\\n   at NRCDataService3.GetAdhocData.PopulateBaseOrchestratorRequest() in C:\\\\projects\\\\ndecore2015\\\\NRCDataService2\\\\GetAdhocData.aspx.cs:line 1781\\r\\n   at NRCDataService3.GetAdhocData.ConstructRequest_Datapoint() in C:\\\\projects\\\\ndecore2015\\\\NRCDataService2\\\\GetAdhocData.aspx.cs:line 628\\r\\n   at NRCDataService3.GetAdhocData.Page_Load(Object sender, EventArgs e) in C:\\\\projects\\\\ndecore2015\\\\NRCDataService2\\\\GetAdhocData.aspx.cs:line 179\"}'"
      ]
     },
     "execution_count": 11,
     "metadata": {},
     "output_type": "execute_result"
    },
    {
     "data": {
      "text/plain": [
       "'{\"status\":200,\"result\": [{\"year\":2011,\"sample\":\"R3\",\"yearSampleLabel\":\"2011\",\"Cohort\":2,\"CohortLabel\":\"Grade 8\",\"stattype\":\"MN:MN\",\"subject\":\"WRI\",\"grade\":8,\"scale\":\"WRIRP\",\"jurisdiction\":\"NP\",\"jurisLabel\":\"National public\",\"variable\":\"GENDER\",\"variableLabel\":\"Gender\",\"varValue\":\"1\",\"varValueLabel\":\"Male\",\"value\":139.099504632971,\"isStatDisplayable\":1,\"errorFlag\":0},{\"year\":2011,\"sample\":\"R3\",\"yearSampleLabel\":\"2011\",\"Cohort\":2,\"CohortLabel\":\"Grade 8\",\"stattype\":\"MN:MN\",\"subject\":\"WRI\",\"grade\":8,\"scale\":\"WRIRP\",\"jurisdiction\":\"NP\",\"jurisLabel\":\"National public\",\"variable\":\"GENDER\",\"variableLabel\":\"Gender\",\"varValue\":\"2\",\"varValueLabel\":\"Female\",\"value\":158.567104984955,\"isStatDisplayable\":1,\"errorFlag\":0}]}'"
      ]
     },
     "execution_count": 11,
     "metadata": {},
     "output_type": "execute_result"
    },
    {
     "name": "stdout",
     "output_type": "stream",
     "text": [
      "NAEP results not found\n"
     ]
    }
   ],
   "source": [
    "## if we wanted do more specific error catching,\n",
    "## see that the status == 400 actually appears here\n",
    "## so could write if else along those lines\n",
    "naep_wrong_resp.text\n",
    "naep_resp.text\n",
    "\n",
    "if \"System.Exception\" in naep_wrong_resp.text:\n",
    "    print(\"NAEP results not found\")"
   ]
  },
  {
   "cell_type": "markdown",
   "metadata": {},
   "source": [
    "## Activity 1: writing a function to make multiple, sequential calls\n",
    "\n",
    "- Say we want to pull the data for grades 4, 8, and 12\n",
    "- How can we write a function that iterates over a list of those grades and pulls the data for each grade?\n",
    "\n",
    "**Note**: an ideal function would have arguments for each parameter in the API like subject, subscale, etc. Here we can leave those other parts constant"
   ]
  },
  {
   "cell_type": "code",
   "execution_count": 12,
   "metadata": {},
   "outputs": [
    {
     "name": "stdout",
     "output_type": "stream",
     "text": [
      "<Response [200]>\n",
      "<class 'requests.models.Response'>\n",
      "Failed to get result from API due to error:\n",
      "Invalid control character '\\r' at: line 1 column 289 (char 288)\n",
      "<Response [200]>\n",
      "<class 'requests.models.Response'>\n"
     ]
    },
    {
     "data": {
      "text/plain": [
       "[{'year': 2011,\n",
       "  'sample': 'R3',\n",
       "  'yearSampleLabel': '2011',\n",
       "  'Cohort': 2,\n",
       "  'CohortLabel': 'Grade 8',\n",
       "  'stattype': 'MN:MN',\n",
       "  'subject': 'WRI',\n",
       "  'grade': 8,\n",
       "  'scale': 'WRIRP',\n",
       "  'jurisdiction': 'NP',\n",
       "  'jurisLabel': 'National public',\n",
       "  'variable': 'GENDER',\n",
       "  'variableLabel': 'Gender',\n",
       "  'varValue': '1',\n",
       "  'varValueLabel': 'Male',\n",
       "  'value': 139.099504632971,\n",
       "  'isStatDisplayable': 1,\n",
       "  'errorFlag': 0},\n",
       " {'year': 2011,\n",
       "  'sample': 'R3',\n",
       "  'yearSampleLabel': '2011',\n",
       "  'Cohort': 2,\n",
       "  'CohortLabel': 'Grade 8',\n",
       "  'stattype': 'MN:MN',\n",
       "  'subject': 'WRI',\n",
       "  'grade': 8,\n",
       "  'scale': 'WRIRP',\n",
       "  'jurisdiction': 'NP',\n",
       "  'jurisLabel': 'National public',\n",
       "  'variable': 'GENDER',\n",
       "  'variableLabel': 'Gender',\n",
       "  'varValue': '2',\n",
       "  'varValueLabel': 'Female',\n",
       "  'value': 158.567104984955,\n",
       "  'isStatDisplayable': 1,\n",
       "  'errorFlag': 0}]"
      ]
     },
     "execution_count": 12,
     "metadata": {},
     "output_type": "execute_result"
    },
    {
     "name": "stdout",
     "output_type": "stream",
     "text": [
      "<Response [200]>\n",
      "<class 'requests.models.Response'>\n"
     ]
    },
    {
     "data": {
      "text/plain": [
       "[{'year': 2011,\n",
       "  'sample': 'R3',\n",
       "  'yearSampleLabel': '2011',\n",
       "  'Cohort': 3,\n",
       "  'CohortLabel': 'Grade 12',\n",
       "  'stattype': 'MN:MN',\n",
       "  'subject': 'WRI',\n",
       "  'grade': 12,\n",
       "  'scale': 'WRIRP',\n",
       "  'jurisdiction': 'NP',\n",
       "  'jurisLabel': 'National public',\n",
       "  'variable': 'GENDER',\n",
       "  'variableLabel': 'Gender',\n",
       "  'varValue': '1',\n",
       "  'varValueLabel': 'Male',\n",
       "  'value': 141.256977963264,\n",
       "  'isStatDisplayable': 1,\n",
       "  'errorFlag': 0},\n",
       " {'year': 2011,\n",
       "  'sample': 'R3',\n",
       "  'yearSampleLabel': '2011',\n",
       "  'Cohort': 3,\n",
       "  'CohortLabel': 'Grade 12',\n",
       "  'stattype': 'MN:MN',\n",
       "  'subject': 'WRI',\n",
       "  'grade': 12,\n",
       "  'scale': 'WRIRP',\n",
       "  'jurisdiction': 'NP',\n",
       "  'jurisLabel': 'National public',\n",
       "  'variable': 'GENDER',\n",
       "  'variableLabel': 'Gender',\n",
       "  'varValue': '2',\n",
       "  'varValueLabel': 'Female',\n",
       "  'value': 155.385916780351,\n",
       "  'isStatDisplayable': 1,\n",
       "  'errorFlag': 0}]"
      ]
     },
     "execution_count": 12,
     "metadata": {},
     "output_type": "execute_result"
    }
   ],
   "source": [
    "# your code here\n",
    "def doGrade(grade):\n",
    "    link = 'https://www.nationsreportcard.gov/''Dataservice/GetAdhocData.aspx?''type=data&subject=writing&grade=' + str(grade) + '&''subscale=WRIRP&variable=GENDER&jurisdiction=NP&stattype=MN:MN&Year=2011'\n",
    "    naep_resp1 = requests.get(link)\n",
    "    print(naep_resp1)\n",
    "    print(type(naep_resp1))\n",
    "    try:\n",
    "        results = naep_resp1.json()['result']\n",
    "        return results\n",
    "    except Exception as e:\n",
    "        print('Failed to get result from API due to error:')\n",
    "        print(e) # or just: pass\n",
    "doGrade(4)\n",
    "doGrade(8)\n",
    "doGrade(12)"
   ]
  },
  {
   "cell_type": "markdown",
   "metadata": {},
   "source": [
    "# 2. Example 2: needs credentials; no wrapper"
   ]
  },
  {
   "cell_type": "markdown",
   "metadata": {},
   "source": [
    "Create an account here: https://www.yelp.com/developers/v3/manage_app"
   ]
  },
  {
   "cell_type": "code",
   "execution_count": 13,
   "metadata": {},
   "outputs": [],
   "source": [
    "## get the key\n",
    "API_KEY = \"ln1hCQ7rMo-u-ZgozN7B1Wo0wFFXq4gxMv3cbmqqpGevxDnXVbZ-_xC_2mOjkxQvNoUS3Ll8QNrh7cwR7BoroHzf6ou1mDAV-9_cc1Zj7O6-6Kwg4d6XQT7I3KszZnYx\""
   ]
  },
  {
   "cell_type": "code",
   "execution_count": 17,
   "metadata": {},
   "outputs": [
    {
     "data": {
      "text/plain": [
       "<Response [200]>"
      ]
     },
     "execution_count": 17,
     "metadata": {},
     "output_type": "execute_result"
    }
   ],
   "source": [
    "## use documentation to define what to search\n",
    "## doc: https://www.yelp.com/developers/documentation/v3/business_search\n",
    "## write the query \n",
    "base_url = \"https://api.yelp.com/v3/businesses/search?\"\n",
    "my_name = \"restaurants\"\n",
    "my_location = \"Hanover,NH,03755\"\n",
    "yelp_genquery = ('{base_url}'\n",
    "                'term={name}'\n",
    "                '&location={loc}').format(base_url = base_url,\n",
    "                name = my_name,\n",
    "                loc = my_location)\n",
    "\n",
    "## use requests to call the API; here, we're\n",
    "## passing it our credentials (structure varies\n",
    "## by API and telling it to only return 10 results\n",
    "## (max is 50 at once)\n",
    "header = {'Authorization': f\"Bearer {API_KEY}\"}\n",
    "yelp_genresp = requests.get(yelp_genquery, headers = header)\n",
    "yelp_genresp\n",
    "\n",
    "## then, look at structure of response\n",
    "yelp_genjson = yelp_genresp.json()\n"
   ]
  },
  {
   "cell_type": "code",
   "execution_count": 15,
   "metadata": {},
   "outputs": [
    {
     "data": {
      "text/plain": [
       "{'id': 'neBEWvgHNhsXIBImCYx_6A',\n",
       " 'alias': 'murphy-s-on-the-green-hanover',\n",
       " 'name': 'Murphy’s on the Green',\n",
       " 'image_url': 'https://s3-media2.fl.yelpcdn.com/bphoto/76DCQrgDN8Nqe3QKDA-opw/o.jpg',\n",
       " 'is_closed': False,\n",
       " 'url': 'https://www.yelp.com/biz/murphy-s-on-the-green-hanover?adjust_creative=713booav9u8BVC_uTkpQmg&utm_campaign=yelp_api_v3&utm_medium=api_v3_business_search&utm_source=713booav9u8BVC_uTkpQmg',\n",
       " 'review_count': 176,\n",
       " 'categories': [{'alias': 'newamerican', 'title': 'New American'},\n",
       "  {'alias': 'seafood', 'title': 'Seafood'},\n",
       "  {'alias': 'pubs', 'title': 'Pubs'}],\n",
       " 'rating': 3.7,\n",
       " 'coordinates': {'latitude': 43.702, 'longitude': -72.2894949},\n",
       " 'transactions': ['delivery'],\n",
       " 'price': '$$',\n",
       " 'location': {'address1': '11 S Main St',\n",
       "  'address2': '',\n",
       "  'address3': '',\n",
       "  'city': 'Hanover',\n",
       "  'zip_code': '03755',\n",
       "  'country': 'US',\n",
       "  'state': 'NH',\n",
       "  'display_address': ['11 S Main St', 'Hanover, NH 03755']},\n",
       " 'phone': '+16036434075',\n",
       " 'display_phone': '(603) 643-4075',\n",
       " 'distance': 295.20752311926014,\n",
       " 'attributes': {'business_temp_closed': None,\n",
       "  'menu_url': None,\n",
       "  'open24_hours': None,\n",
       "  'waitlist_reservation': None}}"
      ]
     },
     "execution_count": 15,
     "metadata": {},
     "output_type": "execute_result"
    },
    {
     "data": {
      "text/html": [
       "<div>\n",
       "<style scoped>\n",
       "    .dataframe tbody tr th:only-of-type {\n",
       "        vertical-align: middle;\n",
       "    }\n",
       "\n",
       "    .dataframe tbody tr th {\n",
       "        vertical-align: top;\n",
       "    }\n",
       "\n",
       "    .dataframe thead th {\n",
       "        text-align: right;\n",
       "    }\n",
       "</style>\n",
       "<table border=\"1\" class=\"dataframe\">\n",
       "  <thead>\n",
       "    <tr style=\"text-align: right;\">\n",
       "      <th></th>\n",
       "      <th>id</th>\n",
       "      <th>alias</th>\n",
       "      <th>name</th>\n",
       "      <th>image_url</th>\n",
       "      <th>is_closed</th>\n",
       "      <th>url</th>\n",
       "      <th>review_count</th>\n",
       "      <th>categories</th>\n",
       "      <th>rating</th>\n",
       "      <th>coordinates</th>\n",
       "      <th>transactions</th>\n",
       "      <th>price</th>\n",
       "      <th>location</th>\n",
       "      <th>phone</th>\n",
       "      <th>display_phone</th>\n",
       "      <th>distance</th>\n",
       "      <th>attributes</th>\n",
       "    </tr>\n",
       "  </thead>\n",
       "  <tbody>\n",
       "    <tr>\n",
       "      <th>0</th>\n",
       "      <td>neBEWvgHNhsXIBImCYx_6A</td>\n",
       "      <td>murphy-s-on-the-green-hanover</td>\n",
       "      <td>Murphy’s on the Green</td>\n",
       "      <td>https://s3-media2.fl.yelpcdn.com/bphoto/76DCQr...</td>\n",
       "      <td>False</td>\n",
       "      <td>https://www.yelp.com/biz/murphy-s-on-the-green...</td>\n",
       "      <td>176</td>\n",
       "      <td>[{'alias': 'newamerican', 'title': 'New Americ...</td>\n",
       "      <td>3.7</td>\n",
       "      <td>{'latitude': 43.702, 'longitude': -72.2894949}</td>\n",
       "      <td>[delivery]</td>\n",
       "      <td>$$</td>\n",
       "      <td>{'address1': '11 S Main St', 'address2': '', '...</td>\n",
       "      <td>+16036434075</td>\n",
       "      <td>(603) 643-4075</td>\n",
       "      <td>295.207523</td>\n",
       "      <td>{'business_temp_closed': None, 'menu_url': Non...</td>\n",
       "    </tr>\n",
       "    <tr>\n",
       "      <th>1</th>\n",
       "      <td>8ybF6YyRldtZmU9jil4xlg</td>\n",
       "      <td>mollys-restaurant-and-bar-hanover</td>\n",
       "      <td>Molly's Restaurant &amp; Bar</td>\n",
       "      <td>https://s3-media4.fl.yelpcdn.com/bphoto/TJLrrA...</td>\n",
       "      <td>False</td>\n",
       "      <td>https://www.yelp.com/biz/mollys-restaurant-and...</td>\n",
       "      <td>509</td>\n",
       "      <td>[{'alias': 'tradamerican', 'title': 'American'...</td>\n",
       "      <td>3.9</td>\n",
       "      <td>{'latitude': 43.701144, 'longitude': -72.2894249}</td>\n",
       "      <td>[delivery]</td>\n",
       "      <td>$$</td>\n",
       "      <td>{'address1': '43 South Main St', 'address2': '...</td>\n",
       "      <td>+16036432570</td>\n",
       "      <td>(603) 643-2570</td>\n",
       "      <td>250.830160</td>\n",
       "      <td>{'business_temp_closed': None, 'menu_url': 'ht...</td>\n",
       "    </tr>\n",
       "    <tr>\n",
       "      <th>2</th>\n",
       "      <td>XVGEEIH5rVB2QzW-qywcJw</td>\n",
       "      <td>base-camp-cafe-hanover</td>\n",
       "      <td>Base Camp Cafe</td>\n",
       "      <td>https://s3-media1.fl.yelpcdn.com/bphoto/p8_YiE...</td>\n",
       "      <td>False</td>\n",
       "      <td>https://www.yelp.com/biz/base-camp-cafe-hanove...</td>\n",
       "      <td>247</td>\n",
       "      <td>[{'alias': 'himalayan', 'title': 'Himalayan/Ne...</td>\n",
       "      <td>4.4</td>\n",
       "      <td>{'latitude': 43.700626, 'longitude': -72.2887803}</td>\n",
       "      <td>[delivery]</td>\n",
       "      <td>$$</td>\n",
       "      <td>{'address1': '3 Lebanon St', 'address2': 'Ste ...</td>\n",
       "      <td>+16036432007</td>\n",
       "      <td>(603) 643-2007</td>\n",
       "      <td>196.139758</td>\n",
       "      <td>{'business_temp_closed': None, 'menu_url': 'ht...</td>\n",
       "    </tr>\n",
       "    <tr>\n",
       "      <th>3</th>\n",
       "      <td>5WW4g_LRwau29KyjZGLyAA</td>\n",
       "      <td>sawtooth-kitchen-hanover</td>\n",
       "      <td>Sawtooth Kitchen</td>\n",
       "      <td>https://s3-media3.fl.yelpcdn.com/bphoto/61MNG4...</td>\n",
       "      <td>False</td>\n",
       "      <td>https://www.yelp.com/biz/sawtooth-kitchen-hano...</td>\n",
       "      <td>25</td>\n",
       "      <td>[{'alias': 'chickenshop', 'title': 'Chicken Sh...</td>\n",
       "      <td>4.1</td>\n",
       "      <td>{'latitude': 43.70158, 'longitude': -72.289641}</td>\n",
       "      <td>[]</td>\n",
       "      <td>NaN</td>\n",
       "      <td>{'address1': '33 S Main St', 'address2': '', '...</td>\n",
       "      <td>+16036435134</td>\n",
       "      <td>(603) 643-5134</td>\n",
       "      <td>242.607552</td>\n",
       "      <td>{'business_temp_closed': None, 'menu_url': 'ht...</td>\n",
       "    </tr>\n",
       "    <tr>\n",
       "      <th>4</th>\n",
       "      <td>34j_2nRCVQBTKafJvncZlg</td>\n",
       "      <td>pine-restaurant-hanover-2</td>\n",
       "      <td>PINE Restaurant</td>\n",
       "      <td>https://s3-media3.fl.yelpcdn.com/bphoto/c2SgUR...</td>\n",
       "      <td>False</td>\n",
       "      <td>https://www.yelp.com/biz/pine-restaurant-hanov...</td>\n",
       "      <td>226</td>\n",
       "      <td>[{'alias': 'newamerican', 'title': 'New Americ...</td>\n",
       "      <td>3.6</td>\n",
       "      <td>{'latitude': 43.7024572, 'longitude': -72.2875...</td>\n",
       "      <td>[delivery]</td>\n",
       "      <td>$$$</td>\n",
       "      <td>{'address1': '2 E Wheelock St', 'address2': No...</td>\n",
       "      <td>+16036468000</td>\n",
       "      <td>(603) 646-8000</td>\n",
       "      <td>256.004291</td>\n",
       "      <td>{'business_temp_closed': None, 'menu_url': 'ht...</td>\n",
       "    </tr>\n",
       "  </tbody>\n",
       "</table>\n",
       "</div>"
      ],
      "text/plain": [
       "                       id                              alias  \\\n",
       "0  neBEWvgHNhsXIBImCYx_6A      murphy-s-on-the-green-hanover   \n",
       "1  8ybF6YyRldtZmU9jil4xlg  mollys-restaurant-and-bar-hanover   \n",
       "2  XVGEEIH5rVB2QzW-qywcJw             base-camp-cafe-hanover   \n",
       "3  5WW4g_LRwau29KyjZGLyAA           sawtooth-kitchen-hanover   \n",
       "4  34j_2nRCVQBTKafJvncZlg          pine-restaurant-hanover-2   \n",
       "\n",
       "                       name  \\\n",
       "0     Murphy’s on the Green   \n",
       "1  Molly's Restaurant & Bar   \n",
       "2            Base Camp Cafe   \n",
       "3          Sawtooth Kitchen   \n",
       "4           PINE Restaurant   \n",
       "\n",
       "                                           image_url  is_closed  \\\n",
       "0  https://s3-media2.fl.yelpcdn.com/bphoto/76DCQr...      False   \n",
       "1  https://s3-media4.fl.yelpcdn.com/bphoto/TJLrrA...      False   \n",
       "2  https://s3-media1.fl.yelpcdn.com/bphoto/p8_YiE...      False   \n",
       "3  https://s3-media3.fl.yelpcdn.com/bphoto/61MNG4...      False   \n",
       "4  https://s3-media3.fl.yelpcdn.com/bphoto/c2SgUR...      False   \n",
       "\n",
       "                                                 url  review_count  \\\n",
       "0  https://www.yelp.com/biz/murphy-s-on-the-green...           176   \n",
       "1  https://www.yelp.com/biz/mollys-restaurant-and...           509   \n",
       "2  https://www.yelp.com/biz/base-camp-cafe-hanove...           247   \n",
       "3  https://www.yelp.com/biz/sawtooth-kitchen-hano...            25   \n",
       "4  https://www.yelp.com/biz/pine-restaurant-hanov...           226   \n",
       "\n",
       "                                          categories  rating  \\\n",
       "0  [{'alias': 'newamerican', 'title': 'New Americ...     3.7   \n",
       "1  [{'alias': 'tradamerican', 'title': 'American'...     3.9   \n",
       "2  [{'alias': 'himalayan', 'title': 'Himalayan/Ne...     4.4   \n",
       "3  [{'alias': 'chickenshop', 'title': 'Chicken Sh...     4.1   \n",
       "4  [{'alias': 'newamerican', 'title': 'New Americ...     3.6   \n",
       "\n",
       "                                         coordinates transactions price  \\\n",
       "0     {'latitude': 43.702, 'longitude': -72.2894949}   [delivery]    $$   \n",
       "1  {'latitude': 43.701144, 'longitude': -72.2894249}   [delivery]    $$   \n",
       "2  {'latitude': 43.700626, 'longitude': -72.2887803}   [delivery]    $$   \n",
       "3    {'latitude': 43.70158, 'longitude': -72.289641}           []   NaN   \n",
       "4  {'latitude': 43.7024572, 'longitude': -72.2875...   [delivery]   $$$   \n",
       "\n",
       "                                            location         phone  \\\n",
       "0  {'address1': '11 S Main St', 'address2': '', '...  +16036434075   \n",
       "1  {'address1': '43 South Main St', 'address2': '...  +16036432570   \n",
       "2  {'address1': '3 Lebanon St', 'address2': 'Ste ...  +16036432007   \n",
       "3  {'address1': '33 S Main St', 'address2': '', '...  +16036435134   \n",
       "4  {'address1': '2 E Wheelock St', 'address2': No...  +16036468000   \n",
       "\n",
       "    display_phone    distance  \\\n",
       "0  (603) 643-4075  295.207523   \n",
       "1  (603) 643-2570  250.830160   \n",
       "2  (603) 643-2007  196.139758   \n",
       "3  (603) 643-5134  242.607552   \n",
       "4  (603) 646-8000  256.004291   \n",
       "\n",
       "                                          attributes  \n",
       "0  {'business_temp_closed': None, 'menu_url': Non...  \n",
       "1  {'business_temp_closed': None, 'menu_url': 'ht...  \n",
       "2  {'business_temp_closed': None, 'menu_url': 'ht...  \n",
       "3  {'business_temp_closed': None, 'menu_url': 'ht...  \n",
       "4  {'business_temp_closed': None, 'menu_url': 'ht...  "
      ]
     },
     "execution_count": 15,
     "metadata": {},
     "output_type": "execute_result"
    }
   ],
   "source": [
    "## example business\n",
    "yelp_genjson['businesses'][0]\n",
    "\n",
    "## more automatic way of summarizing but things end up in lists\n",
    "## within columns for things like categories\n",
    "yelp_gendf = pd.DataFrame(yelp_genjson['businesses'])\n",
    "yelp_gendf.head()"
   ]
  },
  {
   "cell_type": "code",
   "execution_count": 16,
   "metadata": {},
   "outputs": [
    {
     "data": {
      "text/html": [
       "<div>\n",
       "<style scoped>\n",
       "    .dataframe tbody tr th:only-of-type {\n",
       "        vertical-align: middle;\n",
       "    }\n",
       "\n",
       "    .dataframe tbody tr th {\n",
       "        vertical-align: top;\n",
       "    }\n",
       "\n",
       "    .dataframe thead th {\n",
       "        text-align: right;\n",
       "    }\n",
       "</style>\n",
       "<table border=\"1\" class=\"dataframe\">\n",
       "  <thead>\n",
       "    <tr style=\"text-align: right;\">\n",
       "      <th></th>\n",
       "      <th>id</th>\n",
       "      <th>alias</th>\n",
       "      <th>name</th>\n",
       "      <th>image_url</th>\n",
       "      <th>url</th>\n",
       "      <th>price</th>\n",
       "      <th>phone</th>\n",
       "      <th>display_phone</th>\n",
       "    </tr>\n",
       "  </thead>\n",
       "  <tbody>\n",
       "    <tr>\n",
       "      <th>neBEWvgHNhsXIBImCYx_6A</th>\n",
       "      <td>neBEWvgHNhsXIBImCYx_6A</td>\n",
       "      <td>murphy-s-on-the-green-hanover</td>\n",
       "      <td>Murphy’s on the Green</td>\n",
       "      <td>https://s3-media2.fl.yelpcdn.com/bphoto/76DCQr...</td>\n",
       "      <td>https://www.yelp.com/biz/murphy-s-on-the-green...</td>\n",
       "      <td>$$</td>\n",
       "      <td>+16036434075</td>\n",
       "      <td>(603) 643-4075</td>\n",
       "    </tr>\n",
       "    <tr>\n",
       "      <th>8ybF6YyRldtZmU9jil4xlg</th>\n",
       "      <td>8ybF6YyRldtZmU9jil4xlg</td>\n",
       "      <td>mollys-restaurant-and-bar-hanover</td>\n",
       "      <td>Molly's Restaurant &amp; Bar</td>\n",
       "      <td>https://s3-media4.fl.yelpcdn.com/bphoto/TJLrrA...</td>\n",
       "      <td>https://www.yelp.com/biz/mollys-restaurant-and...</td>\n",
       "      <td>$$</td>\n",
       "      <td>+16036432570</td>\n",
       "      <td>(603) 643-2570</td>\n",
       "    </tr>\n",
       "    <tr>\n",
       "      <th>XVGEEIH5rVB2QzW-qywcJw</th>\n",
       "      <td>XVGEEIH5rVB2QzW-qywcJw</td>\n",
       "      <td>base-camp-cafe-hanover</td>\n",
       "      <td>Base Camp Cafe</td>\n",
       "      <td>https://s3-media1.fl.yelpcdn.com/bphoto/p8_YiE...</td>\n",
       "      <td>https://www.yelp.com/biz/base-camp-cafe-hanove...</td>\n",
       "      <td>$$</td>\n",
       "      <td>+16036432007</td>\n",
       "      <td>(603) 643-2007</td>\n",
       "    </tr>\n",
       "    <tr>\n",
       "      <th>5WW4g_LRwau29KyjZGLyAA</th>\n",
       "      <td>5WW4g_LRwau29KyjZGLyAA</td>\n",
       "      <td>sawtooth-kitchen-hanover</td>\n",
       "      <td>Sawtooth Kitchen</td>\n",
       "      <td>https://s3-media3.fl.yelpcdn.com/bphoto/61MNG4...</td>\n",
       "      <td>https://www.yelp.com/biz/sawtooth-kitchen-hano...</td>\n",
       "      <td>NaN</td>\n",
       "      <td>+16036435134</td>\n",
       "      <td>(603) 643-5134</td>\n",
       "    </tr>\n",
       "    <tr>\n",
       "      <th>34j_2nRCVQBTKafJvncZlg</th>\n",
       "      <td>34j_2nRCVQBTKafJvncZlg</td>\n",
       "      <td>pine-restaurant-hanover-2</td>\n",
       "      <td>PINE Restaurant</td>\n",
       "      <td>https://s3-media3.fl.yelpcdn.com/bphoto/c2SgUR...</td>\n",
       "      <td>https://www.yelp.com/biz/pine-restaurant-hanov...</td>\n",
       "      <td>$$$</td>\n",
       "      <td>+16036468000</td>\n",
       "      <td>(603) 646-8000</td>\n",
       "    </tr>\n",
       "    <tr>\n",
       "      <th>jAFLKiVXq9z_h4ZPy0nLMA</th>\n",
       "      <td>jAFLKiVXq9z_h4ZPy0nLMA</td>\n",
       "      <td>the-works-café-hanover</td>\n",
       "      <td>The Works Café</td>\n",
       "      <td>https://s3-media2.fl.yelpcdn.com/bphoto/olpsy-...</td>\n",
       "      <td>https://www.yelp.com/biz/the-works-caf%C3%A9-h...</td>\n",
       "      <td>NaN</td>\n",
       "      <td>+16032772082</td>\n",
       "      <td>(603) 277-2082</td>\n",
       "    </tr>\n",
       "    <tr>\n",
       "      <th>KA8yhrd-ClVYMyOefXdVYg</th>\n",
       "      <td>KA8yhrd-ClVYMyOefXdVYg</td>\n",
       "      <td>lous-restaurant-and-bakery-hanover</td>\n",
       "      <td>Lou's Restaurant &amp; Bakery</td>\n",
       "      <td>https://s3-media3.fl.yelpcdn.com/bphoto/VAx8H9...</td>\n",
       "      <td>https://www.yelp.com/biz/lous-restaurant-and-b...</td>\n",
       "      <td>$$</td>\n",
       "      <td>+16036433321</td>\n",
       "      <td>(603) 643-3321</td>\n",
       "    </tr>\n",
       "  </tbody>\n",
       "</table>\n",
       "</div>"
      ],
      "text/plain": [
       "                                            id  \\\n",
       "neBEWvgHNhsXIBImCYx_6A  neBEWvgHNhsXIBImCYx_6A   \n",
       "8ybF6YyRldtZmU9jil4xlg  8ybF6YyRldtZmU9jil4xlg   \n",
       "XVGEEIH5rVB2QzW-qywcJw  XVGEEIH5rVB2QzW-qywcJw   \n",
       "5WW4g_LRwau29KyjZGLyAA  5WW4g_LRwau29KyjZGLyAA   \n",
       "34j_2nRCVQBTKafJvncZlg  34j_2nRCVQBTKafJvncZlg   \n",
       "jAFLKiVXq9z_h4ZPy0nLMA  jAFLKiVXq9z_h4ZPy0nLMA   \n",
       "KA8yhrd-ClVYMyOefXdVYg  KA8yhrd-ClVYMyOefXdVYg   \n",
       "\n",
       "                                                     alias  \\\n",
       "neBEWvgHNhsXIBImCYx_6A       murphy-s-on-the-green-hanover   \n",
       "8ybF6YyRldtZmU9jil4xlg   mollys-restaurant-and-bar-hanover   \n",
       "XVGEEIH5rVB2QzW-qywcJw              base-camp-cafe-hanover   \n",
       "5WW4g_LRwau29KyjZGLyAA            sawtooth-kitchen-hanover   \n",
       "34j_2nRCVQBTKafJvncZlg           pine-restaurant-hanover-2   \n",
       "jAFLKiVXq9z_h4ZPy0nLMA              the-works-café-hanover   \n",
       "KA8yhrd-ClVYMyOefXdVYg  lous-restaurant-and-bakery-hanover   \n",
       "\n",
       "                                             name  \\\n",
       "neBEWvgHNhsXIBImCYx_6A      Murphy’s on the Green   \n",
       "8ybF6YyRldtZmU9jil4xlg   Molly's Restaurant & Bar   \n",
       "XVGEEIH5rVB2QzW-qywcJw             Base Camp Cafe   \n",
       "5WW4g_LRwau29KyjZGLyAA           Sawtooth Kitchen   \n",
       "34j_2nRCVQBTKafJvncZlg            PINE Restaurant   \n",
       "jAFLKiVXq9z_h4ZPy0nLMA             The Works Café   \n",
       "KA8yhrd-ClVYMyOefXdVYg  Lou's Restaurant & Bakery   \n",
       "\n",
       "                                                                image_url  \\\n",
       "neBEWvgHNhsXIBImCYx_6A  https://s3-media2.fl.yelpcdn.com/bphoto/76DCQr...   \n",
       "8ybF6YyRldtZmU9jil4xlg  https://s3-media4.fl.yelpcdn.com/bphoto/TJLrrA...   \n",
       "XVGEEIH5rVB2QzW-qywcJw  https://s3-media1.fl.yelpcdn.com/bphoto/p8_YiE...   \n",
       "5WW4g_LRwau29KyjZGLyAA  https://s3-media3.fl.yelpcdn.com/bphoto/61MNG4...   \n",
       "34j_2nRCVQBTKafJvncZlg  https://s3-media3.fl.yelpcdn.com/bphoto/c2SgUR...   \n",
       "jAFLKiVXq9z_h4ZPy0nLMA  https://s3-media2.fl.yelpcdn.com/bphoto/olpsy-...   \n",
       "KA8yhrd-ClVYMyOefXdVYg  https://s3-media3.fl.yelpcdn.com/bphoto/VAx8H9...   \n",
       "\n",
       "                                                                      url  \\\n",
       "neBEWvgHNhsXIBImCYx_6A  https://www.yelp.com/biz/murphy-s-on-the-green...   \n",
       "8ybF6YyRldtZmU9jil4xlg  https://www.yelp.com/biz/mollys-restaurant-and...   \n",
       "XVGEEIH5rVB2QzW-qywcJw  https://www.yelp.com/biz/base-camp-cafe-hanove...   \n",
       "5WW4g_LRwau29KyjZGLyAA  https://www.yelp.com/biz/sawtooth-kitchen-hano...   \n",
       "34j_2nRCVQBTKafJvncZlg  https://www.yelp.com/biz/pine-restaurant-hanov...   \n",
       "jAFLKiVXq9z_h4ZPy0nLMA  https://www.yelp.com/biz/the-works-caf%C3%A9-h...   \n",
       "KA8yhrd-ClVYMyOefXdVYg  https://www.yelp.com/biz/lous-restaurant-and-b...   \n",
       "\n",
       "                       price         phone   display_phone  \n",
       "neBEWvgHNhsXIBImCYx_6A    $$  +16036434075  (603) 643-4075  \n",
       "8ybF6YyRldtZmU9jil4xlg    $$  +16036432570  (603) 643-2570  \n",
       "XVGEEIH5rVB2QzW-qywcJw    $$  +16036432007  (603) 643-2007  \n",
       "5WW4g_LRwau29KyjZGLyAA   NaN  +16036435134  (603) 643-5134  \n",
       "34j_2nRCVQBTKafJvncZlg   $$$  +16036468000  (603) 646-8000  \n",
       "jAFLKiVXq9z_h4ZPy0nLMA   NaN  +16032772082  (603) 277-2082  \n",
       "KA8yhrd-ClVYMyOefXdVYg    $$  +16036433321  (603) 643-3321  "
      ]
     },
     "execution_count": 16,
     "metadata": {},
     "output_type": "execute_result"
    }
   ],
   "source": [
    "## more data-specific way of summarizing\n",
    "## we're doing a simple approach and just retaining\n",
    "## cols that have a simple str structure\n",
    "## if doing for real, would want to extract things\n",
    "def clean_yelp_json(one_biz):\n",
    "\n",
    "    ## restrict to str cols\n",
    "    d_str = {key:value for key, value in one_biz.items()\n",
    "             if type(value) == str}\n",
    "    \n",
    "    df_str = pd.DataFrame(d_str, index = [d_str['id']])\n",
    "    return(df_str)\n",
    "\n",
    "yelp_stronly = [clean_yelp_json(one_b) for one_b in yelp_genjson['businesses']]\n",
    "yelp_stronly_df = pd.concat(yelp_stronly)\n",
    "\n",
    "yelp_stronly_df.head(7)\n"
   ]
  },
  {
   "cell_type": "markdown",
   "metadata": {},
   "source": [
    "# Activity 2: pull restaurants in a different location\n",
    "\n",
    "- Try running a business search query for your hometown or another place by constructing a query similar to `yelp_genquery` but changing the location parameter\n",
    "- Other endpoints require feeding what's called the business' fusion id into the API. Take an id from `yelp_stronly.id` and use the documentation here to pull the reviews for that business: https://docs.developer.yelp.com/reference/v3_business_reviews\n",
    "- **Challenge**: generalize the previous step by writing a function that (1) takes a list of business ids as an input, (2) calls the reviews API for each id, (3) returns the results, and (4) rowbinds all results, i.e. turns them into a single, usable DataFrame"
   ]
  },
  {
   "cell_type": "code",
   "execution_count": 38,
   "metadata": {},
   "outputs": [],
   "source": [
    "# your code here\n",
    "## use documentation to define what to search\n",
    "## doc: https://www.yelp.com/developers/documentation/v3/business_search\n",
    "## write the query \n",
    "base_url = \"https://api.yelp.com/v3/businesses/search?\"\n",
    "my_name = \"restaurants\"\n",
    "my_location = \"Higganum,CT,06441\"\n",
    "yelp_genquery = ('{base_url}'\n",
    "                'term={name}'\n",
    "                '&location={loc}').format(base_url = base_url,\n",
    "                name = my_name,\n",
    "                loc = my_location)\n",
    "\n",
    "## use requests to call the API; here, we're\n",
    "## passing it our credentials (structure varies\n",
    "## by API and telling it to only return 10 results\n",
    "## (max is 50 at once)\n",
    "header = {'Authorization': f\"Bearer {API_KEY}\"}\n",
    "yelp_genresp = requests.get(yelp_genquery, headers = header)\n",
    "\n",
    "\n",
    "## then, look at structure of response\n",
    "yelp_genjson = yelp_genresp.json()\n",
    "\n",
    "## example business\n",
    "# yelp_genjson['businesses'][0]\n",
    "\n",
    "## more automatic way of summarizing but things end up in lists\n",
    "## within columns for things like categories\n",
    "yelp_gendf = pd.DataFrame(yelp_genjson['businesses'])\n",
    "# yelp_gendf\n"
   ]
  },
  {
   "cell_type": "code",
   "execution_count": 39,
   "metadata": {},
   "outputs": [],
   "source": [
    "## more data-specific way of summarizing\n",
    "## we're doing a simple approach and just retaining\n",
    "## cols that have a simple str structure\n",
    "## if doing for real, would want to extract things\n",
    "def clean_yelp_json(one_biz):\n",
    "\n",
    "    ## restrict to str cols\n",
    "    d_str = {key:value for key, value in one_biz.items()\n",
    "             if type(value) == str}\n",
    "    \n",
    "    df_str = pd.DataFrame(d_str, index = [d_str['id']])\n",
    "    return(df_str)\n",
    "\n",
    "yelp_stronly = [clean_yelp_json(one_b) for one_b in yelp_genjson['businesses']]\n",
    "yelp_stronly_df = pd.concat(yelp_stronly)\n",
    "\n",
    "# yelp_stronly_df\n"
   ]
  },
  {
   "cell_type": "code",
   "execution_count": 41,
   "metadata": {},
   "outputs": [
    {
     "ename": "KeyError",
     "evalue": "'reviews'",
     "output_type": "error",
     "traceback": [
      "\u001b[0;31m---------------------------------------------------------------------------\u001b[0m",
      "\u001b[0;31mKeyError\u001b[0m                                  Traceback (most recent call last)",
      "Cell \u001b[0;32mIn[41], line 17\u001b[0m\n\u001b[1;32m     14\u001b[0m     final_df \u001b[38;5;241m=\u001b[39m pd\u001b[38;5;241m.\u001b[39mDataFrame(total_reviews)\n\u001b[1;32m     15\u001b[0m     \u001b[38;5;28;01mreturn\u001b[39;00m final_df\n\u001b[0;32m---> 17\u001b[0m get_business_reviews([\u001b[38;5;124m\"\u001b[39m\u001b[38;5;124mMRTdhLfHe-Uw-qQnQXxgVg\u001b[39m\u001b[38;5;124m\"\u001b[39m, \u001b[38;5;124m\"\u001b[39m\u001b[38;5;124mPqyJx0ndtwBT9wLeFYnhoQ\u001b[39m\u001b[38;5;124m\"\u001b[39m, \u001b[38;5;124m\"\u001b[39m\u001b[38;5;124mzeFASIGTjBwwPNf0ab86Jw\u001b[39m\u001b[38;5;124m\"\u001b[39m])\n",
      "Cell \u001b[0;32mIn[41], line 9\u001b[0m, in \u001b[0;36mget_business_reviews\u001b[0;34m(business_ids)\u001b[0m\n\u001b[1;32m      7\u001b[0m yelp_genresp \u001b[38;5;241m=\u001b[39m requests\u001b[38;5;241m.\u001b[39mget(total_query, headers \u001b[38;5;241m=\u001b[39m header)\n\u001b[1;32m      8\u001b[0m yelp_genresp\n\u001b[0;32m----> 9\u001b[0m yelp_genjson \u001b[38;5;241m=\u001b[39m yelp_genresp\u001b[38;5;241m.\u001b[39mjson()[\u001b[38;5;124m'\u001b[39m\u001b[38;5;124mreviews\u001b[39m\u001b[38;5;124m'\u001b[39m]\n\u001b[1;32m     10\u001b[0m yelp_genjson\n\u001b[1;32m     11\u001b[0m \u001b[38;5;28;01mfor\u001b[39;00m rev_dict \u001b[38;5;129;01min\u001b[39;00m yelp_genjson:\n",
      "\u001b[0;31mKeyError\u001b[0m: 'reviews'"
     ]
    }
   ],
   "source": [
    "def get_business_reviews(business_ids):\n",
    "    base_url = \"https://api.yelp.com/v3/businesses/{}/reviews\"\n",
    "    header = {'Authorization': f\"Bearer {API_KEY}\"}\n",
    "    total_reviews = []\n",
    "    for bus_id in business_ids:\n",
    "        total_query = base_url.format(bus_id)\n",
    "        yelp_genresp = requests.get(total_query, headers = header)\n",
    "        yelp_genresp\n",
    "        yelp_genjson = yelp_genresp.json()['reviews']\n",
    "        yelp_genjson\n",
    "        for rev_dict in yelp_genjson:\n",
    "            rev_dict[\"business_id\"] = bus_id\n",
    "        total_reviews += yelp_genjson\n",
    "    final_df = pd.DataFrame(total_reviews)\n",
    "    return final_df\n",
    "\n",
    "get_business_reviews([\"MRTdhLfHe-Uw-qQnQXxgVg\", \"PqyJx0ndtwBT9wLeFYnhoQ\", \"zeFASIGTjBwwPNf0ab86Jw\"])"
   ]
  }
 ],
 "metadata": {
  "kernelspec": {
   "display_name": "Python 3 (ipykernel)",
   "language": "python",
   "name": "python3"
  },
  "language_info": {
   "codemirror_mode": {
    "name": "ipython",
    "version": 3
   },
   "file_extension": ".py",
   "mimetype": "text/x-python",
   "name": "python",
   "nbconvert_exporter": "python",
   "pygments_lexer": "ipython3",
   "version": "3.11.7"
  }
 },
 "nbformat": 4,
 "nbformat_minor": 4
}
